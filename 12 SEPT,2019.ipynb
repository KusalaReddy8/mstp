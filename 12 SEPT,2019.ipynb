{
 "cells": [
  {
   "cell_type": "code",
   "execution_count": null,
   "metadata": {},
   "outputs": [
    {
     "name": "stdout",
     "output_type": "stream",
     "text": [
      "4\n",
      "enter a number : 11061811\n",
      "beminp\n",
      "enter a number : 13\n",
      "eminp\n"
     ]
    }
   ],
   "source": [
    "def isprime(n):\n",
    "    if n==0 or n==1:\n",
    "        return False\n",
    "    flag=True\n",
    "    for i in range(2,int(n**(1/2))+1):\n",
    "        if n%i==0:\n",
    "            flag=False\n",
    "    return flag\n",
    "\n",
    "tc=int(input())\n",
    "for t in range(tc):\n",
    "    n=input('enter a number : ')\n",
    "    m='0'\n",
    "    if '6' in n:\n",
    "        m=n.replace('6','s')\n",
    "    if '9' in m:\n",
    "        m=m.replace('9','6')\n",
    "    if 's' in m:\n",
    "        m=m.replace('s','9')\n",
    "\n",
    "    if isprime(int(n)) and isprime(int(n[::-1])) and isprime(int(m)) and isprime(int(m[::-1])):\n",
    "        print('beminp')\n",
    "    elif isprime(int(n)) and isprime(int(n[::-1])):\n",
    "        print(\"eminp\")\n",
    "    else:\n",
    "        print('no')"
   ]
  },
  {
   "cell_type": "code",
   "execution_count": null,
   "metadata": {},
   "outputs": [],
   "source": []
  }
 ],
 "metadata": {
  "kernelspec": {
   "display_name": "Python 3",
   "language": "python",
   "name": "python3"
  },
  "language_info": {
   "codemirror_mode": {
    "name": "ipython",
    "version": 3
   },
   "file_extension": ".py",
   "mimetype": "text/x-python",
   "name": "python",
   "nbconvert_exporter": "python",
   "pygments_lexer": "ipython3",
   "version": "3.7.3"
  }
 },
 "nbformat": 4,
 "nbformat_minor": 2
}
