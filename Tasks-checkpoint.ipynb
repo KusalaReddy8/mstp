{
 "cells": [
  {
   "cell_type": "markdown",
   "metadata": {},
   "source": [
    "### check the number of digits in a given number\n"
   ]
  },
  {
   "cell_type": "code",
   "execution_count": 2,
   "metadata": {},
   "outputs": [
    {
     "name": "stdout",
     "output_type": "stream",
     "text": [
      "Enter the Number: 2821\n",
      "Number of Digits in a number = 4\n"
     ]
    }
   ],
   "source": [
    "Number = int(input(\"Enter the Number: \"))\n",
    "Count = 0\n",
    "while(Number > 0):\n",
    "    Number = Number // 10\n",
    "    Count = Count + 1\n",
    "\n",
    "print(\"Number of Digits in a number = %d\" %Count)"
   ]
  },
  {
   "cell_type": "markdown",
   "metadata": {},
   "source": [
    "## to find the square root of number"
   ]
  },
  {
   "cell_type": "code",
   "execution_count": 10,
   "metadata": {},
   "outputs": [
    {
     "ename": "IndentationError",
     "evalue": "unexpected indent (<ipython-input-10-4f1249f3bd04>, line 2)",
     "output_type": "error",
     "traceback": [
      "\u001b[1;36m  File \u001b[1;32m\"<ipython-input-10-4f1249f3bd04>\"\u001b[1;36m, line \u001b[1;32m2\u001b[0m\n\u001b[1;33m    if number<0:\u001b[0m\n\u001b[1;37m    ^\u001b[0m\n\u001b[1;31mIndentationError\u001b[0m\u001b[1;31m:\u001b[0m unexpected indent\n"
     ]
    }
   ],
   "source": [
    "number=int(input(\"enter the number to find square root\"))\n",
    " if number<0:\n",
    "        print(\"please enter a valid number\")\n",
    "        else:\n",
    "            sqr_root=number**0.5\n",
    "            print(\"square root of {} is {}\",format(number,sqr_root))\n"
   ]
  },
  {
   "cell_type": "markdown",
   "metadata": {},
   "source": [
    "## print count of  numbers and avg of that number taken by the user in single line"
   ]
  },
  {
   "cell_type": "code",
   "execution_count": null,
   "metadata": {},
   "outputs": [],
   "source": [
    "n=input()\n",
    "n=n.split(\"#\")\n",
    "sum=0\n",
    "for i in n:\n",
    "    sum=sum+int(i)\n",
    "print(sum)"
   ]
  },
  {
   "cell_type": "markdown",
   "metadata": {},
   "source": [
    "### check the two strings using same characters or not"
   ]
  },
  {
   "cell_type": "code",
   "execution_count": null,
   "metadata": {},
   "outputs": [],
   "source": [
    "a1=input(\"enter a string\")\n",
    "a2=input(\"enter a string\")\n",
    "sum1=0\n",
    "sum2=0\n",
    "for i in a1:\n",
    "    sum1=sum1+int(i)\n",
    "print(sum1)\n",
    "for j in a2:\n",
    "    sum2=sum2+int(j)\n",
    "print(sum1)\n",
    "if sum1==sum2:\n",
    "    print(same)\n",
    "else:\n",
    "    print(not same)\n"
   ]
  },
  {
   "cell_type": "markdown",
   "metadata": {},
   "source": [
    "### to print the series of all primenumber till n"
   ]
  },
  {
   "cell_type": "code",
   "execution_count": 23,
   "metadata": {},
   "outputs": [
    {
     "name": "stdout",
     "output_type": "stream",
     "text": [
      "Enter the number: 25\n",
      "2\n",
      "3\n",
      "5\n",
      "7\n",
      "11\n",
      "13\n",
      "17\n",
      "19\n",
      "23\n"
     ]
    }
   ],
   "source": [
    "\n",
    "S_value = 1\n",
    "n  = int(input(\"Enter the number: \"))\n",
    "for num in range(S_value, n + 1):   \n",
    "    if num > 1:\n",
    "        for i in range(2, int(num/2)+1):\n",
    "            if (num % i) == 0:\n",
    "                break\n",
    "        else:\n",
    "            print(num)\n"
   ]
  },
  {
   "cell_type": "markdown",
   "metadata": {},
   "source": [
    "## string is palindrome or not"
   ]
  },
  {
   "cell_type": "code",
   "execution_count": 24,
   "metadata": {},
   "outputs": [
    {
     "name": "stdout",
     "output_type": "stream",
     "text": [
      "Enter string:madam\n",
      "Yes\n"
     ]
    }
   ],
   "source": [
    "string=input(\"Enter string:\")\n",
    "if(string==string[::-1]):\n",
    "      print(\"Yes\")\n",
    "else:\n",
    "      print(\"No\")"
   ]
  },
  {
   "cell_type": "markdown",
   "metadata": {},
   "source": [
    "## The ISBN value must be 10 digit code.The ISBN is valid if :1*digit1+2*digit2+3*digit3+4*digit4+5*digit5+6*digit6+7*digit7+8*digit8+9*digit9+10*digit10 is divisible by 11"
   ]
  },
  {
   "cell_type": "code",
   "execution_count": 32,
   "metadata": {},
   "outputs": [
    {
     "name": "stdout",
     "output_type": "stream",
     "text": [
      "1401601499\n",
      "is divisible\n"
     ]
    }
   ],
   "source": [
    "num=int(input())\n",
    "i=10\n",
    "sum=0\n",
    "while(num!=0):\n",
    "    r=num%10\n",
    "    sum=sum+(i*r)\n",
    "    num=num//10\n",
    "    i=i-1\n",
    "if(sum%11==0):\n",
    "    print(\"is divisible\")\n",
    "else:\n",
    "    print(\"not divisible\")\n",
    "            "
   ]
  },
  {
   "cell_type": "markdown",
   "metadata": {},
   "source": [
    "## need to change the case of each alphabet in this string"
   ]
  },
  {
   "cell_type": "code",
   "execution_count": 26,
   "metadata": {},
   "outputs": [
    {
     "name": "stdout",
     "output_type": "stream",
     "text": [
      "enter the stringKusaLa\n"
     ]
    },
    {
     "data": {
      "text/plain": [
       "'kUSAlA'"
      ]
     },
     "execution_count": 26,
     "metadata": {},
     "output_type": "execute_result"
    }
   ],
   "source": [
    "string=input(\"enter the string\")\n",
    "c=string.swapcase()\n",
    "c"
   ]
  },
  {
   "cell_type": "markdown",
   "metadata": {},
   "source": [
    "## identical strings or not"
   ]
  },
  {
   "cell_type": "code",
   "execution_count": 31,
   "metadata": {},
   "outputs": [
    {
     "name": "stdout",
     "output_type": "stream",
     "text": [
      "enter the stringabc\n",
      "enter the stringabc\n",
      "strings are identical\n"
     ]
    }
   ],
   "source": [
    "a=input(\"enter the string\")\n",
    "b=input(\"enter the string\")\n",
    "if a==b:\n",
    "    print(\"strings are identical\")\n",
    "else:\n",
    "        print(\"not identical\")\n"
   ]
  },
  {
   "cell_type": "markdown",
   "metadata": {},
   "source": [
    "## E-maze in x and y axises need to take input like LLRDDR(strings)"
   ]
  },
  {
   "cell_type": "code",
   "execution_count": null,
   "metadata": {},
   "outputs": [],
   "source": [
    "a=input(\"Enter input like LLRDDR:\")\n",
    "x,y=0,0\n",
    "for i in a:\n",
    "    if(i=='L'):\n",
    "        x-=1\n",
    "        y=y\n",
    "    elif(i=='R'):\n",
    "        x+=1\n",
    "        y=y\n",
    "    elif(i=='D'):\n",
    "        x=x\n",
    "        y-=1\n",
    "    elif(i=='U'):\n",
    "        x=x\n",
    "        y+=1\n",
    "    print(x,y)"
   ]
  },
  {
   "cell_type": "markdown",
   "metadata": {},
   "source": [
    "## length of the string"
   ]
  },
  {
   "cell_type": "code",
   "execution_count": 33,
   "metadata": {},
   "outputs": [
    {
     "data": {
      "text/plain": [
       "28"
      ]
     },
     "execution_count": 33,
     "metadata": {},
     "output_type": "execute_result"
    }
   ],
   "source": [
    "c=\"Problem Solving Using Python\"\n",
    "len(c)"
   ]
  },
  {
   "cell_type": "markdown",
   "metadata": {},
   "source": [
    "## how many times the python repeated"
   ]
  },
  {
   "cell_type": "code",
   "execution_count": 34,
   "metadata": {},
   "outputs": [
    {
     "data": {
      "text/plain": [
       "2"
      ]
     },
     "execution_count": 34,
     "metadata": {},
     "output_type": "execute_result"
    }
   ],
   "source": [
    "c=\"python programming by python platforms\"\n",
    "b=c.count(\"python\")\n",
    "b\n"
   ]
  },
  {
   "cell_type": "markdown",
   "metadata": {},
   "source": [
    "## string in reverse order"
   ]
  },
  {
   "cell_type": "code",
   "execution_count": 35,
   "metadata": {},
   "outputs": [
    {
     "name": "stdout",
     "output_type": "stream",
     "text": [
      "enter stringkusala\n"
     ]
    },
    {
     "data": {
      "text/plain": [
       "'alasuk'"
      ]
     },
     "execution_count": 35,
     "metadata": {},
     "output_type": "execute_result"
    }
   ],
   "source": [
    "string=input(\"enter string\")\n",
    "string[::-1]"
   ]
  },
  {
   "cell_type": "code",
   "execution_count": 3,
   "metadata": {},
   "outputs": [
    {
     "name": "stdout",
     "output_type": "stream",
     "text": [
      "120\n"
     ]
    }
   ],
   "source": [
    "### create a function to find the factorial of a number\n",
    "def fact(n):\n",
    "    if n==0:\n",
    "        return 1\n",
    "    else:\n",
    "        return n*(fact(n-1))\n",
    "print(fact(5))\n",
    "    "
   ]
  },
  {
   "cell_type": "code",
   "execution_count": 6,
   "metadata": {},
   "outputs": [
    {
     "name": "stdout",
     "output_type": "stream",
     "text": [
      "True\n"
     ]
    }
   ],
   "source": [
    "## to check if the given number is prime\n",
    "\n",
    "def prime(n):\n",
    "    if (n==1):\n",
    "        return False\n",
    "    elif (n==2):\n",
    "        return True\n",
    "    else:\n",
    "        for x in range(2,n):\n",
    "            if(n % x==0):\n",
    "                return False\n",
    "        return True             \n",
    "print(prime(11))\n",
    "        "
   ]
  },
  {
   "cell_type": "code",
   "execution_count": 15,
   "metadata": {},
   "outputs": [
    {
     "name": "stdout",
     "output_type": "stream",
     "text": [
      "1\n",
      "2\n",
      "3\n",
      "6\n"
     ]
    }
   ],
   "source": [
    "## to generate the list of factors \n",
    "def fact(n):\n",
    "    for i in range(1,n+1):\n",
    "        if n%i==0 :\n",
    "            print(i)\n",
    "fact(6)               "
   ]
  },
  {
   "cell_type": "code",
   "execution_count": 17,
   "metadata": {},
   "outputs": [
    {
     "name": "stdout",
     "output_type": "stream",
     "text": [
      "6\n",
      "12\n",
      "18\n",
      "24\n",
      "30\n",
      "36\n",
      "42\n",
      "48\n",
      "54\n",
      "60\n",
      "66\n",
      "72\n",
      "78\n",
      "84\n",
      "90\n",
      "96\n"
     ]
    }
   ],
   "source": [
    "### function to print all number divisible by 6 and not a factor of 100 in a given range(lb,ub)inclusive\n",
    "\n",
    "def fun(a,n):\n",
    "    for i in range(1,n+1):\n",
    "        if(i%6==0 and 100%i!=0):\n",
    "            print(i)\n",
    "fun(12,100)            "
   ]
  },
  {
   "cell_type": "code",
   "execution_count": null,
   "metadata": {},
   "outputs": [],
   "source": [
    "### function to find the average of cubes of all even numbers in a given range(lb,ub)inclusive\n",
    "a=int(input())\n",
    "fact=1\n",
    "for i in range(1,a+1):\n",
    "    fact=fact*i*i\n",
    "print(fact)   \n",
    "\n"
   ]
  },
  {
   "cell_type": "code",
   "execution_count": 27,
   "metadata": {},
   "outputs": [
    {
     "name": "stdout",
     "output_type": "stream",
     "text": [
      "enter a number5\n",
      "5.6\n"
     ]
    }
   ],
   "source": [
    "### to calculate the average of first n prime numbers\n",
    "def avgfprime(n):\n",
    "    i=1\n",
    "    x=2\n",
    "    s=0\n",
    "    flag=0\n",
    "    while i<=n:\n",
    "        for j in range(2,x):\n",
    "            if(x%j==0):\n",
    "                flag+=1\n",
    "        if(flag==0):\n",
    "            i+=1\n",
    "            s+=x\n",
    "            x+=1\n",
    "        else:\n",
    "            x=x+1\n",
    "            flag=0\n",
    "    return s/n\n",
    "n=int(input('enter a number'))\n",
    "print(avgfprime(n))  "
   ]
  },
  {
   "cell_type": "code",
   "execution_count": 25,
   "metadata": {},
   "outputs": [
    {
     "name": "stdout",
     "output_type": "stream",
     "text": [
      "28\n"
     ]
    }
   ],
   "source": [
    "### to generate all perfect numbers in a given range \n",
    "def perfectnumber(l,u):\n",
    "    s=0\n",
    "    for i in range(l,u+1):\n",
    "        for j in range(1,i):\n",
    "            if(i%j==0):\n",
    "                s+=j\n",
    "        if(s==i):\n",
    "            print(i)\n",
    "        s=0\n",
    "perfectnumber(10,30)\n",
    "  "
   ]
  },
  {
   "cell_type": "markdown",
   "metadata": {},
   "source": [
    "### find the sum of prime numbers from 10 to 30 using functions are inclusive"
   ]
  },
  {
   "cell_type": "code",
   "execution_count": 3,
   "metadata": {},
   "outputs": [],
   "source": [
    "def isPrime(n):\n",
    "    for i in range(2,n):\n",
    "        if n%i==0:\n",
    "            return False\n",
    "        return True             \n",
    "        "
   ]
  },
  {
   "cell_type": "code",
   "execution_count": 4,
   "metadata": {},
   "outputs": [
    {
     "name": "stdout",
     "output_type": "stream",
     "text": [
      "24\n"
     ]
    }
   ],
   "source": [
    "sum=0\n",
    "for x in range(2,10):\n",
    "    if isPrime(x):\n",
    "        sum=sum+x\n",
    "print(sum)"
   ]
  },
  {
   "cell_type": "markdown",
   "metadata": {},
   "source": [
    "# LIST IN PYTHON"
   ]
  },
  {
   "cell_type": "markdown",
   "metadata": {},
   "source": [
    "## LIST\n",
    "list is a collection of items that we can store any type of accepted values/items"
   ]
  },
  {
   "cell_type": "code",
   "execution_count": 1,
   "metadata": {},
   "outputs": [],
   "source": [
    "a=list()\n",
    "b=[]"
   ]
  },
  {
   "cell_type": "code",
   "execution_count": 2,
   "metadata": {},
   "outputs": [
    {
     "data": {
      "text/plain": [
       "(list, list)"
      ]
     },
     "execution_count": 2,
     "metadata": {},
     "output_type": "execute_result"
    }
   ],
   "source": [
    "type(a),type(b)"
   ]
  },
  {
   "cell_type": "code",
   "execution_count": 3,
   "metadata": {},
   "outputs": [
    {
     "data": {
      "text/plain": [
       "0"
      ]
     },
     "execution_count": 3,
     "metadata": {},
     "output_type": "execute_result"
    }
   ],
   "source": [
    "len(a)"
   ]
  },
  {
   "cell_type": "markdown",
   "metadata": {},
   "source": [
    "### students=[['sai',10,20,30],['lakshmi',30,40,50],['raju',30,40,60]]"
   ]
  },
  {
   "cell_type": "code",
   "execution_count": 8,
   "metadata": {},
   "outputs": [
    {
     "name": "stdout",
     "output_type": "stream",
     "text": [
      "sai 60\n",
      "lakshmi 120\n",
      "raju 130\n"
     ]
    }
   ],
   "source": [
    "for stud in students:\n",
    "    name=stud[0]\n",
    "    marks=stud[1]+stud[2]+stud[3]\n",
    "    print(name,marks)\n",
    "    "
   ]
  },
  {
   "cell_type": "code",
   "execution_count": 9,
   "metadata": {},
   "outputs": [
    {
     "name": "stdout",
     "output_type": "stream",
     "text": [
      "130\n"
     ]
    }
   ],
   "source": [
    "high=0\n",
    "for stud in students:\n",
    "    name=stud[0]\n",
    "    marks=stud[1]+stud[2]+stud[3]\n",
    "    if high<marks:\n",
    "        high=marks\n",
    "print(high)        "
   ]
  },
  {
   "cell_type": "code",
   "execution_count": 10,
   "metadata": {},
   "outputs": [
    {
     "name": "stdout",
     "output_type": "stream",
     "text": [
      "raju\n"
     ]
    }
   ],
   "source": [
    "high=0\n",
    "for stud in students:\n",
    "    name=stud[0]\n",
    "    marks=stud[1]+stud[2]+stud[3]\n",
    "    if high<marks:\n",
    "        high=marks\n",
    "for stud in students:\n",
    "    name=stud[0]\n",
    "    marks=stud[1]+stud[2]+stud[3]\n",
    "    if high==marks:\n",
    "        print(name)\n"
   ]
  },
  {
   "cell_type": "code",
   "execution_count": 3,
   "metadata": {},
   "outputs": [],
   "source": [
    "stud=[[1,30,40],[3,40,100],[2,50,10]]"
   ]
  },
  {
   "cell_type": "code",
   "execution_count": 11,
   "metadata": {},
   "outputs": [],
   "source": [
    "stud.reverse()"
   ]
  },
  {
   "cell_type": "code",
   "execution_count": null,
   "metadata": {},
   "outputs": [],
   "source": []
  }
 ],
 "metadata": {
  "kernelspec": {
   "display_name": "Python 3",
   "language": "python",
   "name": "python3"
  },
  "language_info": {
   "codemirror_mode": {
    "name": "ipython",
    "version": 3
   },
   "file_extension": ".py",
   "mimetype": "text/x-python",
   "name": "python",
   "nbconvert_exporter": "python",
   "pygments_lexer": "ipython3",
   "version": "3.7.3"
  }
 },
 "nbformat": 4,
 "nbformat_minor": 2
}
