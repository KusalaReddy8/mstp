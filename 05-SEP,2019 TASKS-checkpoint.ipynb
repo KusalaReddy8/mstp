{
 "cells": [
  {
   "cell_type": "markdown",
   "metadata": {},
   "source": [
    "## FILE Tasks"
   ]
  },
  {
   "cell_type": "markdown",
   "metadata": {},
   "source": [
    "#### write the content from book.txt to notes.txt"
   ]
  },
  {
   "cell_type": "code",
   "execution_count": 8,
   "metadata": {},
   "outputs": [],
   "source": [
    "fh=open('book.txt','r')\n",
    "fh1=open('notes.txt','w')\n",
    "data=fh.read()\n",
    "fh1.write(data)\n",
    "fh.close()\n",
    "fh1.close()"
   ]
  },
  {
   "cell_type": "markdown",
   "metadata": {},
   "source": [
    "### append mode"
   ]
  },
  {
   "cell_type": "code",
   "execution_count": 9,
   "metadata": {},
   "outputs": [],
   "source": [
    "fh=open('notes.txt','a')\n",
    "fh.write('new line')\n",
    "fh.close()"
   ]
  },
  {
   "cell_type": "code",
   "execution_count": 10,
   "metadata": {},
   "outputs": [
    {
     "name": "stdout",
     "output_type": "stream",
     "text": [
      "Book 1\n",
      "\n",
      "Book 2\n",
      "\n",
      "Book 3\n",
      "\n",
      "Book 4\n"
     ]
    }
   ],
   "source": [
    "fh=open('book.txt','r')\n",
    "for line in fh:\n",
    "    print(line)\n",
    "fh.close()    "
   ]
  },
  {
   "cell_type": "markdown",
   "metadata": {},
   "source": [
    "### find the number of lines in book.txt file"
   ]
  },
  {
   "cell_type": "markdown",
   "metadata": {},
   "source": [
    "fh=open('book.txt','r')\n",
    "count=0\n",
    "for i in fh:\n",
    "    count=count+1\n",
    "print(count)    \n",
    "fh.close()   "
   ]
  },
  {
   "cell_type": "markdown",
   "metadata": {},
   "source": [
    "### print 3rd line in file"
   ]
  },
  {
   "cell_type": "code",
   "execution_count": 22,
   "metadata": {},
   "outputs": [
    {
     "name": "stdout",
     "output_type": "stream",
     "text": [
      "Book 3\n",
      "\n"
     ]
    }
   ],
   "source": [
    "fh=open('book.txt','r')\n",
    "count=0\n",
    "for i in fh:\n",
    "    count=count+1\n",
    "    if(count==3):\n",
    "        print(i)\n",
    "fh.close()        \n",
    "        "
   ]
  },
  {
   "cell_type": "markdown",
   "metadata": {},
   "source": [
    "### print last character in the 3rd line"
   ]
  },
  {
   "cell_type": "code",
   "execution_count": 27,
   "metadata": {},
   "outputs": [
    {
     "name": "stdout",
     "output_type": "stream",
     "text": [
      "3\n"
     ]
    }
   ],
   "source": [
    "fh=open('book.txt','r')\n",
    "count=0\n",
    "for i in fh:\n",
    "    count=count+1\n",
    "    if(count==3):\n",
    "        print(i[-2])\n",
    "fh.close()        \n",
    "    "
   ]
  },
  {
   "cell_type": "markdown",
   "metadata": {},
   "source": [
    "### create a function to return the data in given line number"
   ]
  },
  {
   "cell_type": "code",
   "execution_count": 35,
   "metadata": {},
   "outputs": [
    {
     "name": "stdout",
     "output_type": "stream",
     "text": [
      "enter n3\n",
      "Book 3\n",
      "\n"
     ]
    }
   ],
   "source": [
    "def fun(n):\n",
    "    fh=open('book.txt','r')\n",
    "    count=0\n",
    "    for i in fh:\n",
    "        count=count+1\n",
    "        if(count==n):\n",
    "            print(i)\n",
    "fh.close()\n",
    "n=int(input(\"enter n\"))\n",
    "fun(n)"
   ]
  },
  {
   "cell_type": "markdown",
   "metadata": {},
   "source": [
    "### create function to find the number of characters in file"
   ]
  },
  {
   "cell_type": "code",
   "execution_count": 3,
   "metadata": {},
   "outputs": [
    {
     "name": "stdout",
     "output_type": "stream",
     "text": [
      "book.txt\n",
      "27\n"
     ]
    }
   ],
   "source": [
    "def fun(n):\n",
    "    f=open('book.txt','r')\n",
    "    data=f.read()\n",
    "    print(len(data))\n",
    "    f.close()\n",
    "n=input()\n",
    "fun(n)"
   ]
  },
  {
   "cell_type": "markdown",
   "metadata": {},
   "source": [
    "### create a function to find the sum of digits in file"
   ]
  },
  {
   "cell_type": "code",
   "execution_count": 18,
   "metadata": {},
   "outputs": [
    {
     "name": "stdout",
     "output_type": "stream",
     "text": [
      "book.txt\n",
      "0\n"
     ]
    }
   ],
   "source": [
    "def fun(n):\n",
    "    f=open('book.txt','r')\n",
    "    data=f.read()\n",
    "    sum=0\n",
    "    for i in f:\n",
    "        if i.isdigit():\n",
    "            sum+=int(i)\n",
    "    print(sum)\n",
    "\n",
    "n=input()\n",
    "fun(n)\n",
    "    "
   ]
  },
  {
   "cell_type": "markdown",
   "metadata": {},
   "source": [
    "### create a function to replace all old word with new word in a given file"
   ]
  },
  {
   "cell_type": "code",
   "execution_count": 14,
   "metadata": {},
   "outputs": [],
   "source": [
    "def replaceword(filename,oldword,newword):\n",
    "    fh=open(filename,'r')\n",
    "    data=fh.read()\n",
    "    data=data.replace(oldword,newword)\n",
    "    fh.close()\n",
    "    fh=open(filename,'w')\n",
    "    fh.write(data)\n",
    "    fh.close()"
   ]
  },
  {
   "cell_type": "code",
   "execution_count": 16,
   "metadata": {},
   "outputs": [],
   "source": [
    "replaceword('book.txt','Book','Line')"
   ]
  },
  {
   "cell_type": "markdown",
   "metadata": {},
   "source": [
    "### find the number of words in file"
   ]
  },
  {
   "cell_type": "code",
   "execution_count": 23,
   "metadata": {},
   "outputs": [
    {
     "name": "stdout",
     "output_type": "stream",
     "text": [
      "4\n"
     ]
    }
   ],
   "source": [
    "words = 0\n",
    "fh=open('book.txt','r')\n",
    "for wordcount in fh:\n",
    "    words=words+1\n",
    "print(words)"
   ]
  },
  {
   "cell_type": "code",
   "execution_count": 25,
   "metadata": {},
   "outputs": [],
   "source": [
    "fh=open('book.txt','r')\n",
    "fh1=open('bookcopy.txt','w')\n",
    "data=fh.read()\n",
    "fh1.write(data)\n",
    "fh1=open('bookcopy.txt','a')\n",
    "fh1.write('total')\n",
    "fh.close()\n",
    "fh1.close()\n"
   ]
  },
  {
   "cell_type": "code",
   "execution_count": null,
   "metadata": {},
   "outputs": [],
   "source": []
  }
 ],
 "metadata": {
  "kernelspec": {
   "display_name": "Python 3",
   "language": "python",
   "name": "python3"
  },
  "language_info": {
   "codemirror_mode": {
    "name": "ipython",
    "version": 3
   },
   "file_extension": ".py",
   "mimetype": "text/x-python",
   "name": "python",
   "nbconvert_exporter": "python",
   "pygments_lexer": "ipython3",
   "version": "3.7.3"
  }
 },
 "nbformat": 4,
 "nbformat_minor": 2
}
