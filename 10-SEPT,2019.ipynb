{
 "cells": [
  {
   "cell_type": "markdown",
   "metadata": {},
   "source": [
    "### FILE ENCRYPTION and DECRYPTION"
   ]
  },
  {
   "cell_type": "code",
   "execution_count": 8,
   "metadata": {},
   "outputs": [],
   "source": [
    "keyfile=\"key.txt\"      #File Encryption\n",
    "def generatingkey(keyfile):\n",
    "    with open(keyfile,'w')as f:\n",
    "        for i in range(10):\n",
    "            if i<=5:\n",
    "                f.write(str(i)+\" \"+str(i+4)+\"\\n\")\n",
    "            else:\n",
    "                f.write(str(i)+\" \"+str(i-6)+\"\\n\")\n",
    "    return\n",
    "generatingkey(keyfile)"
   ]
  },
  {
   "cell_type": "code",
   "execution_count": 9,
   "metadata": {},
   "outputs": [],
   "source": [
    "keyfile=\"keys.txt\"      #File Encryption\n",
    "def generatingkey(keyfile):\n",
    "    with open(keyfile,'w')as f:\n",
    "        for i in range(10):\n",
    "            if i>=0 and i<=4:\n",
    "                f.write(str(i)+\" \"+str(i+6)+\"\\n\")\n",
    "            else:\n",
    "                f.write(str(i)+\" \"+str(i-4)+\"\\n\")\n",
    "    return\n",
    "generatingkey(keyfile)"
   ]
  },
  {
   "cell_type": "code",
   "execution_count": 11,
   "metadata": {},
   "outputs": [],
   "source": [
    "#### Function to encrypt the marks file\n",
    "keyfile=\"key.txt\"      #File Encryption\n",
    "def dictionarykey(keyfile):\n",
    "    key={}\n",
    "    with open(keyfile,'r')as f:\n",
    "        for i in f:\n",
    "            line=i.split()\n",
    "            key[line[0]]=line[1]\n",
    "            \n",
    "    return key\n",
    "#dictionarykey(keyfile)\n",
    "datafile=\"marks.txt\"\n",
    "def encrypt(datafile,keyfile):\n",
    "    key=dictionarykey(keyfile)\n",
    "    with open(datafile,'r')as f:\n",
    "        filedata=f.read().split(\"\\n\")\n",
    "    with open(\"encryt.txt\",\"w\")as f:\n",
    "        for mark in filedata:\n",
    "            line=''\n",
    "            for n in mark:\n",
    "                line+=key[n]\n",
    "            f.write(line+\"\\n\")\n",
    "    return\n",
    "encrypt(datafile,keyfile)"
   ]
  },
  {
   "cell_type": "code",
   "execution_count": null,
   "metadata": {},
   "outputs": [],
   "source": []
  }
 ],
 "metadata": {
  "kernelspec": {
   "display_name": "Python 3",
   "language": "python",
   "name": "python3"
  },
  "language_info": {
   "codemirror_mode": {
    "name": "ipython",
    "version": 3
   },
   "file_extension": ".py",
   "mimetype": "text/x-python",
   "name": "python",
   "nbconvert_exporter": "python",
   "pygments_lexer": "ipython3",
   "version": "3.7.3"
  }
 },
 "nbformat": 4,
 "nbformat_minor": 2
}
